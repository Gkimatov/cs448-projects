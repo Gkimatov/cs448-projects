{
 "cells": [
  {
   "cell_type": "code",
   "execution_count": null,
   "metadata": {},
   "outputs": [],
   "source": [
    "[![Open In Colab](https://colab.research.google.com/assets/colab-badge.svg)](https://colab.research.google.com/github/googlecolab/colabtools/blob/master/notebooks/colab-github-demo.ipynb)"
   ]
  },
  {
   "cell_type": "code",
   "execution_count": 1,
   "metadata": {},
   "outputs": [
    {
     "data": {
      "text/html": [
       "<style type=\"text/css\">\n",
       "    table.dataframe td, table.dataframe th {\n",
       "        border-style: solid;\n",
       "        border-width: thin;\n",
       "        border-color: indigo;\n",
       "    }\n",
       "</style>\n"
      ],
      "text/plain": [
       "<IPython.core.display.HTML object>"
      ]
     },
     "metadata": {},
     "output_type": "display_data"
    }
   ],
   "source": [
    "%%HTML\n",
    "<style type=\"text/css\">\n",
    "    table.dataframe td, table.dataframe th {\n",
    "        border-style: solid;\n",
    "        border-width: thin;\n",
    "        border-color: indigo;\n",
    "    }\n",
    "</style>"
   ]
  },
  {
   "cell_type": "code",
   "execution_count": 20,
   "metadata": {},
   "outputs": [],
   "source": [
    "### Calculate the Taylor polynomials centered at 0 -- T_n(x) -- for cos(x) for the following 4 values of x: {1/10, 2/10, 3/10, 4/10}\n",
    "## which is equivalent to j/10 for j = 1,2,3,4\n",
    "\n",
    "import pandas as pd\n",
    "import numpy as np\n",
    "import math"
   ]
  },
  {
   "cell_type": "code",
   "execution_count": 21,
   "metadata": {},
   "outputs": [],
   "source": [
    "def cosFn(x, upperBound): # approximation of cos(x)\n",
    "    cosSum = 0\n",
    "    \n",
    "    for n in range(0, upperBound + 1): # go up to upperBound to calculate Taylor sum (approximation) -\n",
    "                                        # higher upper bound improves our approximation of the cosine function \n",
    "        cosSum += ((math.pow(-1, n) / math.factorial(2*n)) * math.pow(x, (2*n)))\n",
    "                        \n",
    "    return cosSum"
   ]
  },
  {
   "cell_type": "code",
   "execution_count": 22,
   "metadata": {},
   "outputs": [],
   "source": [
    "def smallestInt():\n",
    "    table = []\n",
    "    \n",
    "    ### For each value of j, find the smallest integer n such that |T_n(j/10)-cos(j/10)| < 10^-12\n",
    "    \n",
    "    for j in range(1, 5):\n",
    "        n = 0\n",
    "        exact = np.cos(j/10) # x = j/10\n",
    "        approx = cosFn(j/10, n)\n",
    "        absoluteErr = abs(approx - exact)\n",
    "        \n",
    "        while(absoluteErr >= math.pow(10, -12)):\n",
    "            n += 1\n",
    "            approx = cosFn(j/10, n)\n",
    "            absoluteErr = abs(approx - exact)\n",
    "        \n",
    "        row = [str(j), str(n), str(approx), str(exact), str(absoluteErr)]\n",
    "        table.append(row)\n",
    "            \n",
    "    return table"
   ]
  },
  {
   "cell_type": "code",
   "execution_count": 23,
   "metadata": {},
   "outputs": [
    {
     "data": {
      "text/html": [
       "<div>\n",
       "<style scoped>\n",
       "    .dataframe tbody tr th:only-of-type {\n",
       "        vertical-align: middle;\n",
       "    }\n",
       "\n",
       "    .dataframe tbody tr th {\n",
       "        vertical-align: top;\n",
       "    }\n",
       "\n",
       "    .dataframe thead th {\n",
       "        text-align: right;\n",
       "    }\n",
       "</style>\n",
       "<table border=\"1\" class=\"dataframe\">\n",
       "  <thead>\n",
       "    <tr style=\"text-align: right;\">\n",
       "      <th></th>\n",
       "      <th>j</th>\n",
       "      <th>n</th>\n",
       "      <th>Taylor Sum</th>\n",
       "      <th>Exact Value</th>\n",
       "      <th>Error</th>\n",
       "    </tr>\n",
       "  </thead>\n",
       "  <tbody>\n",
       "    <tr>\n",
       "      <th>0</th>\n",
       "      <td>1</td>\n",
       "      <td>3</td>\n",
       "      <td>0.9950041652777778</td>\n",
       "      <td>0.9950041652780257</td>\n",
       "      <td>2.4791280139879746e-13</td>\n",
       "    </tr>\n",
       "    <tr>\n",
       "      <th>1</th>\n",
       "      <td>2</td>\n",
       "      <td>4</td>\n",
       "      <td>0.9800665778412698</td>\n",
       "      <td>0.9800665778412416</td>\n",
       "      <td>2.8199664825478976e-14</td>\n",
       "    </tr>\n",
       "    <tr>\n",
       "      <th>2</th>\n",
       "      <td>3</td>\n",
       "      <td>5</td>\n",
       "      <td>0.9553364891256049</td>\n",
       "      <td>0.955336489125606</td>\n",
       "      <td>1.1102230246251565e-15</td>\n",
       "    </tr>\n",
       "    <tr>\n",
       "      <th>3</th>\n",
       "      <td>4</td>\n",
       "      <td>5</td>\n",
       "      <td>0.92106099400285</td>\n",
       "      <td>0.9210609940028851</td>\n",
       "      <td>3.5083047578154947e-14</td>\n",
       "    </tr>\n",
       "  </tbody>\n",
       "</table>\n",
       "</div>"
      ],
      "text/plain": [
       "   j  n          Taylor Sum         Exact Value                   Error\n",
       "0  1  3  0.9950041652777778  0.9950041652780257  2.4791280139879746e-13\n",
       "1  2  4  0.9800665778412698  0.9800665778412416  2.8199664825478976e-14\n",
       "2  3  5  0.9553364891256049   0.955336489125606  1.1102230246251565e-15\n",
       "3  4  5    0.92106099400285  0.9210609940028851  3.5083047578154947e-14"
      ]
     },
     "metadata": {},
     "output_type": "display_data"
    }
   ],
   "source": [
    "def main():\n",
    "    result = smallestInt()\n",
    "\n",
    "    # insert 2d array into pandas DataFrame\n",
    "    table = pd.DataFrame(np.array(result), columns=['j', 'n', 'Taylor Sum', 'Exact Value', 'Error'])\n",
    "    \n",
    "    display(table)\n",
    "    \n",
    "if __name__ == \"__main__\":\n",
    "    main()"
   ]
  },
  {
   "cell_type": "markdown",
   "metadata": {},
   "source": [
    "**Analysis:**\n",
    "\n",
    "In the cosFn() method, we can see that increasing the upper-bound of the summation improves the approximation of cos(x). In the smallestInt() method, I use this fact in a while loop to increment n by 1 if my error is too high, i.e. greater than or equal to 10^-12. Each row in the table reflects that this was calculated accurately, as the Taylor sums and their corresponding exact values (calculated using np.cos(x)) are fairly close to one another, with a difference of less than 10^-12. In each iteration, the error was calculated to be, at best, 1.1102230246251565e-15 when j = 3 and n = 5, and at worst, 2.4791280139879746e-13 when j = 1 and n = 3. \n",
    "\n",
    "The Taylor sums were calculated by taking the summation from 0 to some upper-bound of (((-1)^n) * (x^2n)) / (2n)!\n",
    "This ensures that only the values that evaluate to a non-zero number are added to the total sum. "
   ]
  },
  {
   "cell_type": "markdown",
   "metadata": {},
   "source": [
    "![AI Meme](https://i.imgur.com/NFe4C3U.jpg)"
   ]
  }
 ],
 "metadata": {
  "kernelspec": {
   "display_name": "Python 3",
   "language": "python",
   "name": "python3"
  },
  "language_info": {
   "codemirror_mode": {
    "name": "ipython",
    "version": 3
   },
   "file_extension": ".py",
   "mimetype": "text/x-python",
   "name": "python",
   "nbconvert_exporter": "python",
   "pygments_lexer": "ipython3",
   "version": "3.7.1"
  }
 },
 "nbformat": 4,
 "nbformat_minor": 2
}
